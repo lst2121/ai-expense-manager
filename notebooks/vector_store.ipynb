{
 "cells": [
  {
   "cell_type": "code",
   "execution_count": 1,
   "id": "93b9345a",
   "metadata": {},
   "outputs": [],
   "source": [
    "import os\n",
    "os.chdir(\"..\")  # Go to project root\n"
   ]
  },
  {
   "cell_type": "code",
   "execution_count": null,
   "id": "0ae2d86f",
   "metadata": {},
   "outputs": [
    {
     "name": "stdout",
     "output_type": "stream",
     "text": [
      "Data loaded and prepared.\n"
     ]
    },
    {
     "name": "stderr",
     "output_type": "stream",
     "text": [
      "/home/lst_ubuntu/projects/ai-expense-manager/ai-expense-venv/lib/python3.11/site-packages/tqdm/auto.py:21: TqdmWarning: IProgress not found. Please update jupyter and ipywidgets. See https://ipywidgets.readthedocs.io/en/stable/user_install.html\n",
      "  from .autonotebook import tqdm as notebook_tqdm\n"
     ]
    },
    {
     "name": "stdout",
     "output_type": "stream",
     "text": [
      "🔄 Converting DataFrame to documents...\n",
      "✅ Created 60 documents.\n",
      "📦 Building vector store...\n",
      "💾 Saving vector store to disk...\n",
      "✅ Vector store saved at: vector_store/faiss_index\n",
      "📂 Loading vector store from disk...\n",
      "✅ Vector store loaded.\n",
      "Vector store created and loaded successfully.\n"
     ]
    },
    {
     "ename": "AttributeError",
     "evalue": "'VectorDB' object has no attribute 'get_vector_count'",
     "output_type": "error",
     "traceback": [
      "\u001b[31m---------------------------------------------------------------------------\u001b[39m",
      "\u001b[31mAttributeError\u001b[39m                            Traceback (most recent call last)",
      "\u001b[36mCell\u001b[39m\u001b[36m \u001b[39m\u001b[32mIn[2]\u001b[39m\u001b[32m, line 13\u001b[39m\n\u001b[32m     11\u001b[39m vdb.load()\n\u001b[32m     12\u001b[39m \u001b[38;5;28mprint\u001b[39m(\u001b[33m\"\u001b[39m\u001b[33mVector store created and loaded successfully.\u001b[39m\u001b[33m\"\u001b[39m)\n\u001b[32m---> \u001b[39m\u001b[32m13\u001b[39m \u001b[38;5;28mprint\u001b[39m(\u001b[33m\"\u001b[39m\u001b[33mNumber of vectors in the store:\u001b[39m\u001b[33m\"\u001b[39m, \u001b[43mvdb\u001b[49m\u001b[43m.\u001b[49m\u001b[43mget_vector_count\u001b[49m())\n\u001b[32m     15\u001b[39m retriver = vdb.get_vectorstore().as_retriever()\n",
      "\u001b[31mAttributeError\u001b[39m: 'VectorDB' object has no attribute 'get_vector_count'"
     ]
    }
   ],
   "source": [
    "from expense_manager.vector_store.vector_db import VectorDB\n",
    "from expense_manager.utils.csv_loader import load_and_prepare_csv\n",
    "\n",
    "# 1. Load CSV\n",
    "df = load_and_prepare_csv(\"data/sample_expense.csv\")\n",
    "print(\"✅ Data loaded and prepared.\")\n",
    "\n",
    "# 2. Initialize vector DB\n",
    "vdb = VectorDB(persist_path=\"vector_store/faiss_index\")\n",
    "\n",
    "# 3. Create and save vector DB\n",
    "vdb.create_from_dataframe(df)\n",
    "\n",
    "# 4. Load vector DB from disk\n",
    "vdb.load()  # ❗ Make sure vector_db.py has allow_dangerous_deserialization=True\n",
    "print(\"✅ Vector store created and loaded successfully.\")\n",
    "\n",
    "# 5. Get retriever\n",
    "retriever = vdb.get_vectorstore().as_retriever()\n",
    "\n",
    "\n"
   ]
  },
  {
   "cell_type": "code",
   "execution_count": null,
   "id": "b25f7691",
   "metadata": {},
   "outputs": [],
   "source": [
    "query = \"What did I spend on groceries in April?\"\n",
    "docs = retriever.get_relevant_documents(query)\n",
    "\n",
    "# Step 6: Display results\n",
    "print(\"\\n🔍 Retrieved Documents:\\n\")\n",
    "for i, doc in enumerate(docs, 1):\n",
    "    print(f\"--- Result {i} ---\")\n",
    "    print(doc.page_content)\n",
    "    print(\"Metadata:\", doc.metadata)\n",
    "    print()"
   ]
  }
 ],
 "metadata": {
  "kernelspec": {
   "display_name": "ai-expense-venv",
   "language": "python",
   "name": "python3"
  },
  "language_info": {
   "codemirror_mode": {
    "name": "ipython",
    "version": 3
   },
   "file_extension": ".py",
   "mimetype": "text/x-python",
   "name": "python",
   "nbconvert_exporter": "python",
   "pygments_lexer": "ipython3",
   "version": "3.11.13"
  }
 },
 "nbformat": 4,
 "nbformat_minor": 5
}
