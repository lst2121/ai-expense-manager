{
 "cells": [
  {
   "cell_type": "code",
   "execution_count": 1,
   "id": "93b9345a",
   "metadata": {},
   "outputs": [],
   "source": [
    "import os\n",
    "os.chdir(\"..\")  # Go to project root\n"
   ]
  },
  {
   "cell_type": "code",
   "execution_count": 3,
   "id": "0ae2d86f",
   "metadata": {},
   "outputs": [
    {
     "name": "stdout",
     "output_type": "stream",
     "text": [
      "✅ Data loaded and prepared.\n",
      "🔄 Converting DataFrame to documents...\n",
      "✅ Created 60 documents.\n",
      "📦 Building vector store...\n",
      "💾 Saving vector store to disk...\n",
      "✅ Vector store saved at: vector_store/faiss_index\n",
      "📂 Loading vector store from disk...\n",
      "✅ Vector store loaded.\n",
      "✅ Vector store created and loaded successfully.\n"
     ]
    }
   ],
   "source": [
    "from expense_manager.vector_store.vector_db import VectorDB\n",
    "from expense_manager.utils.csv_loader import load_and_prepare_csv\n",
    "\n",
    "# 1. Load CSV\n",
    "df = load_and_prepare_csv(\"data/sample_expense.csv\")\n",
    "print(\"✅ Data loaded and prepared.\")\n",
    "\n",
    "# 2. Initialize vector DB\n",
    "vdb = VectorDB(persist_path=\"vector_store/faiss_index\")\n",
    "\n",
    "# 3. Create and save vector DB\n",
    "vdb.create_from_dataframe(df)\n",
    "\n",
    "# 4. Load vector DB from disk\n",
    "vdb.load()  # ❗ Make sure vector_db.py has allow_dangerous_deserialization=True\n",
    "print(\"✅ Vector store created and loaded successfully.\")\n",
    "\n",
    "# 5. Get retriever\n",
    "retriever = vdb.get_vectorstore().as_retriever()\n",
    "\n",
    "\n"
   ]
  },
  {
   "cell_type": "code",
   "execution_count": 4,
   "id": "b25f7691",
   "metadata": {},
   "outputs": [
    {
     "name": "stdout",
     "output_type": "stream",
     "text": [
      "\n",
      "🔍 Retrieved Documents:\n",
      "\n",
      "--- Result 1 ---\n",
      "Date: 2025-01-06 00:00:00\n",
      "Category: Groceries\n",
      "Amount: 4498.02\n",
      "Notes: Flipkart\n",
      "Metadata: {'date': '2025-01-06 00:00:00', 'category': 'Groceries', 'month': 'January', 'notes': 'Flipkart'}\n",
      "\n",
      "--- Result 2 ---\n",
      "Date: 2025-03-24 00:00:00\n",
      "Category: Groceries\n",
      "Amount: 975.37\n",
      "Notes: Petrol pump\n",
      "Metadata: {'date': '2025-03-24 00:00:00', 'category': 'Groceries', 'month': 'March', 'notes': 'Petrol pump'}\n",
      "\n",
      "--- Result 3 ---\n",
      "Date: 2025-06-03 00:00:00\n",
      "Category: Clothing\n",
      "Amount: 3904.38\n",
      "Notes: Weekend dinner\n",
      "Metadata: {'date': '2025-06-03 00:00:00', 'category': 'Clothing', 'month': 'June', 'notes': 'Weekend dinner'}\n",
      "\n",
      "--- Result 4 ---\n",
      "Date: 2025-05-04 00:00:00\n",
      "Category: Shopping\n",
      "Amount: 4860.87\n",
      "Notes: nan\n",
      "Metadata: {'date': '2025-05-04 00:00:00', 'category': 'Shopping', 'month': 'May', 'notes': nan}\n",
      "\n"
     ]
    },
    {
     "name": "stderr",
     "output_type": "stream",
     "text": [
      "/tmp/ipykernel_152364/1246118490.py:2: LangChainDeprecationWarning: The method `BaseRetriever.get_relevant_documents` was deprecated in langchain-core 0.1.46 and will be removed in 1.0. Use :meth:`~invoke` instead.\n",
      "  docs = retriever.get_relevant_documents(query)\n"
     ]
    }
   ],
   "source": [
    "query = \"What did I spend on groceries in April?\"\n",
    "docs = retriever.get_relevant_documents(query)\n",
    "\n",
    "# Step 6: Display results\n",
    "print(\"\\n🔍 Retrieved Documents:\\n\")\n",
    "for i, doc in enumerate(docs, 1):\n",
    "    print(f\"--- Result {i} ---\")\n",
    "    print(doc.page_content)\n",
    "    print(\"Metadata:\", doc.metadata)\n",
    "    print()"
   ]
  },
  {
   "cell_type": "code",
   "execution_count": 5,
   "id": "659d6099",
   "metadata": {},
   "outputs": [
    {
     "name": "stdout",
     "output_type": "stream",
     "text": [
      "Date: 2025-06-03 00:00:00\n",
      "Category: Clothing\n",
      "Amount: 3904.38\n",
      "Notes: Weekend dinner\n",
      "Date: 2025-05-09 00:00:00\n",
      "Category: Clothing\n",
      "Amount: 3060.01\n",
      "Notes: Recharge\n",
      "Date: 2025-05-13 00:00:00\n",
      "Category: Internet\n",
      "Amount: 3502.99\n",
      "Notes: Weekend dinner\n",
      "Date: 2025-04-22 00:00:00\n",
      "Category: Rent\n",
      "Amount: 580.23\n",
      "Notes: Doctor visit\n"
     ]
    }
   ],
   "source": [
    "results = retriever.invoke(\"How much did I spend in June?\")\n",
    "for doc in results:\n",
    "    print(doc.page_content)"
   ]
  }
 ],
 "metadata": {
  "kernelspec": {
   "display_name": "ai-expense-venv",
   "language": "python",
   "name": "python3"
  },
  "language_info": {
   "codemirror_mode": {
    "name": "ipython",
    "version": 3
   },
   "file_extension": ".py",
   "mimetype": "text/x-python",
   "name": "python",
   "nbconvert_exporter": "python",
   "pygments_lexer": "ipython3",
   "version": "3.11.13"
  }
 },
 "nbformat": 4,
 "nbformat_minor": 5
}
