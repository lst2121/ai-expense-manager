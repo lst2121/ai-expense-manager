{
 "cells": [
  {
   "cell_type": "code",
   "execution_count": 6,
   "id": "f8b18820",
   "metadata": {},
   "outputs": [
    {
     "data": {
      "text/plain": [
       "['/usr/lib/python311.zip',\n",
       " '/usr/lib/python3.11',\n",
       " '/usr/lib/python3.11/lib-dynload',\n",
       " '',\n",
       " '/home/lst_ubuntu/projects/ai-expense-manager/ai-expense-venv/lib/python3.11/site-packages']"
      ]
     },
     "execution_count": 6,
     "metadata": {},
     "output_type": "execute_result"
    }
   ],
   "source": [
    "import sys\n",
    "sys.path\n"
   ]
  },
  {
   "cell_type": "code",
   "execution_count": 1,
   "id": "437edd03",
   "metadata": {},
   "outputs": [
    {
     "name": "stdout",
     "output_type": "stream",
     "text": [
      "/home/lst_ubuntu/projects/ai-expense-manager/notebooks\n"
     ]
    }
   ],
   "source": [
    "import os\n",
    "print(os.getcwd())"
   ]
  },
  {
   "cell_type": "code",
   "execution_count": 2,
   "id": "a8a9e493",
   "metadata": {},
   "outputs": [],
   "source": [
    "import os\n",
    "os.chdir(\"..\")  # Go to project root\n"
   ]
  },
  {
   "cell_type": "code",
   "execution_count": 3,
   "id": "05de99ad",
   "metadata": {},
   "outputs": [
    {
     "data": {
      "text/html": [
       "<div>\n",
       "<style scoped>\n",
       "    .dataframe tbody tr th:only-of-type {\n",
       "        vertical-align: middle;\n",
       "    }\n",
       "\n",
       "    .dataframe tbody tr th {\n",
       "        vertical-align: top;\n",
       "    }\n",
       "\n",
       "    .dataframe thead th {\n",
       "        text-align: right;\n",
       "    }\n",
       "</style>\n",
       "<table border=\"1\" class=\"dataframe\">\n",
       "  <thead>\n",
       "    <tr style=\"text-align: right;\">\n",
       "      <th></th>\n",
       "      <th>Date</th>\n",
       "      <th>Category</th>\n",
       "      <th>Amount</th>\n",
       "      <th>Notes</th>\n",
       "      <th>Month</th>\n",
       "    </tr>\n",
       "  </thead>\n",
       "  <tbody>\n",
       "    <tr>\n",
       "      <th>0</th>\n",
       "      <td>2025-05-16</td>\n",
       "      <td>EMI</td>\n",
       "      <td>3851.75</td>\n",
       "      <td>Recharge</td>\n",
       "      <td>May</td>\n",
       "    </tr>\n",
       "    <tr>\n",
       "      <th>1</th>\n",
       "      <td>2025-01-26</td>\n",
       "      <td>EMI</td>\n",
       "      <td>3513.20</td>\n",
       "      <td>Petrol pump</td>\n",
       "      <td>January</td>\n",
       "    </tr>\n",
       "    <tr>\n",
       "      <th>2</th>\n",
       "      <td>2025-04-22</td>\n",
       "      <td>Rent</td>\n",
       "      <td>580.23</td>\n",
       "      <td>Doctor visit</td>\n",
       "      <td>April</td>\n",
       "    </tr>\n",
       "    <tr>\n",
       "      <th>3</th>\n",
       "      <td>2025-03-13</td>\n",
       "      <td>Gym</td>\n",
       "      <td>3085.50</td>\n",
       "      <td>Flipkart</td>\n",
       "      <td>March</td>\n",
       "    </tr>\n",
       "    <tr>\n",
       "      <th>4</th>\n",
       "      <td>2025-06-13</td>\n",
       "      <td>Subscriptions</td>\n",
       "      <td>157.94</td>\n",
       "      <td>Amazon purchase</td>\n",
       "      <td>June</td>\n",
       "    </tr>\n",
       "  </tbody>\n",
       "</table>\n",
       "</div>"
      ],
      "text/plain": [
       "        Date       Category   Amount            Notes    Month\n",
       "0 2025-05-16            EMI  3851.75         Recharge      May\n",
       "1 2025-01-26            EMI  3513.20      Petrol pump  January\n",
       "2 2025-04-22           Rent   580.23     Doctor visit    April\n",
       "3 2025-03-13            Gym  3085.50         Flipkart    March\n",
       "4 2025-06-13  Subscriptions   157.94  Amazon purchase     June"
      ]
     },
     "execution_count": 3,
     "metadata": {},
     "output_type": "execute_result"
    }
   ],
   "source": [
    "from expense_manager.utils.csv_loader import load_and_prepare_csv\n",
    "\n",
    "df = load_and_prepare_csv(\"data/sample_expense.csv\")\n",
    "df.head()\n"
   ]
  }
 ],
 "metadata": {
  "kernelspec": {
   "display_name": "ai-expense-venv",
   "language": "python",
   "name": "python3"
  },
  "language_info": {
   "codemirror_mode": {
    "name": "ipython",
    "version": 3
   },
   "file_extension": ".py",
   "mimetype": "text/x-python",
   "name": "python",
   "nbconvert_exporter": "python",
   "pygments_lexer": "ipython3",
   "version": "3.11.13"
  }
 },
 "nbformat": 4,
 "nbformat_minor": 5
}
